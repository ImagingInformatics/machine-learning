{
 "cells": [
  {
   "cell_type": "markdown",
   "metadata": {},
   "source": [
    "#### This notebook has helper utilities to be used with some of the course notebooks."
   ]
  },
  {
   "cell_type": "code",
   "execution_count": null,
   "metadata": {},
   "outputs": [],
   "source": [
    "# Load project data into a variable 'p'\n",
    "\n",
    "p = mdai_client.project('LxR6zdR2', path='./lung-opacity-data')"
   ]
  },
  {
   "cell_type": "code",
   "execution_count": null,
   "metadata": {},
   "outputs": [],
   "source": [
    "# map the label ids to class ids as a dictionary object.\n",
    "\n",
    "# this maps label ids to class ids as a dict obj\n",
    "labels_dict = {'L_ylR0L8':0, # No Lung Opacity \n",
    "               'L_DlqEAl':1, # Lung Opacity  \n",
    "              }\n",
    "\n",
    "print(labels_dict)\n",
    "p.set_labels_dict(labels_dict)"
   ]
  },
  {
   "cell_type": "code",
   "execution_count": null,
   "metadata": {},
   "outputs": [],
   "source": [
    "# Create a basic CNN architecture\n",
    "\n",
    "inputs = Input((img_width, img_height, 3))\n",
    "\n",
    "# Block1\n",
    "conv1 = Conv2D(32, (3,3), activation = 'relu', padding='same')(inputs)\n",
    "conv2 = Conv2D(32, (3,3), activation = 'relu', padding='same')(conv1)\n",
    "max1 = MaxPooling2D((4,4), strides = (4,4))(conv2)\n",
    "\n",
    "# Block2\n",
    "conv3 = Conv2D(64, (3,3), activation = 'relu', padding='same')(max1)\n",
    "conv4 = Conv2D(64, (3,3), activation = 'relu', padding='same')(conv3)\n",
    "max2 = MaxPooling2D((4,4), strides = (4,4))(conv4)\n",
    "\n",
    "fcn = Flatten()(max2)\n",
    "fcn = Dense(512,activation='relu')(fcn) # was 1028\n",
    "fcn = Dropout(0.5)(fcn)\n",
    "fcn = Dense(256,activation='relu')(fcn) # was 512\n",
    "fcn = Dropout(0.5)(fcn)\n",
    "output = Dense(2,activation='softmax')(fcn)\n",
    "\n",
    "model = Model(inputs,output)\n",
    "\n",
    "model.compile(optimizer=Adam(lr=5.E-6, beta_1=0.9, beta_2=0.999, epsilon=1e-08, decay=0.0), \n",
    "              loss='categorical_crossentropy', metrics=['accuracy'])"
   ]
  },
  {
   "cell_type": "code",
   "execution_count": null,
   "metadata": {},
   "outputs": [],
   "source": [
    "# Write code to plot learning curves \n",
    "# for both training and validation (accuracy and loss)\n",
    "\n",
    "import matplotlib.pyplot as plt\n",
    "\n",
    "print(history.history.keys())\n",
    "\n",
    "plt.figure()\n",
    "plt.plot(history.history['accuracy'], 'orange', label='Training accuracy')\n",
    "plt.plot(history.history['val_accuracy'], 'blue', label='Validation accuracy')\n",
    "plt.legend()\n",
    "plt.xlabel('Epoch', fontsize=16)\n",
    "plt.ylabel('Accuracy', fontsize = 16)\n",
    "plt.show()\n",
    "\n",
    "plt.figure()\n",
    "plt.plot(history.history['loss'], 'red', label='Training loss')\n",
    "plt.plot(history.history['val_loss'], 'green', label='Validation loss')\n",
    "plt.legend()\n",
    "plt.xlabel('Epoch', fontsize=16)\n",
    "plt.ylabel('Loss', fontsize=16)\n",
    "plt.show()"
   ]
  }
 ],
 "metadata": {
  "kernelspec": {
   "display_name": "Python 3",
   "language": "python",
   "name": "python3"
  },
  "language_info": {
   "codemirror_mode": {
    "name": "ipython",
    "version": 3
   },
   "file_extension": ".py",
   "mimetype": "text/x-python",
   "name": "python",
   "nbconvert_exporter": "python",
   "pygments_lexer": "ipython3",
   "version": "3.6.5"
  }
 },
 "nbformat": 4,
 "nbformat_minor": 2
}
